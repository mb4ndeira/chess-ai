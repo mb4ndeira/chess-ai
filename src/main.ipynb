{
 "cells": [
  {
   "cell_type": "code",
   "execution_count": null,
   "metadata": {},
   "outputs": [],
   "source": [
    "import os\n",
    "import chess as python_chess\n",
    "from datetime import datetime\n",
    "from dotenv import load_dotenv\n",
    "\n",
    "from chess_game import ChessGame\n",
    "from model.gaming_model import GamingRLModel\n",
    "from model.local_model_saver import LocalModelSaver\n",
    "from model.cloud_model_saver import CloudModelSaver\n",
    "from chess_trainer import ChessTrainer\n",
    "from engine import ChessEngine\n",
    "from backblaze_gateway import BackblazeGateway\n",
    "\n",
    "load_dotenv()\n",
    "\n",
    "timestamp = datetime.now().strftime(\"%Y-%m-%dT%H-%M-%S\")\n",
    "filename = f\"gaming_model_{timestamp}.keras\"\n",
    "\n",
    "application_key_id = os.getenv(\"B2_APPLICATION_KEY_ID\")\n",
    "application_key = os.getenv(\"B2_APPLICATION_KEY\")\n",
    "bucket_name = os.getenv(\"B2_BUCKET_NAME\")\n",
    "\n",
    "if not all([application_key_id, application_key, bucket_name]):\n",
    "    raise ValueError(\"Missing Backblaze credentials in .env file\")\n",
    "gateway = BackblazeGateway(application_key_id, application_key, bucket_name)\n",
    "\n",
    "model_saver = CloudModelSaver(filename, gateway)\n",
    "# model_saver = LocalModelSaver(f\"../{filename}\")\n",
    "\n",
    "model = GamingRLModel(model_saver, \"../gaming_model.keras\")\n",
    "chess = ChessGame()\n",
    "engine = ChessEngine(model)\n",
    "trainer = ChessTrainer(engine)\n",
    "\n",
    "board = chess.get_initial_state()\n",
    "board.push(python_chess.Move.from_uci(\"e2e4\"))\n"
   ]
  },
  {
   "cell_type": "code",
   "execution_count": null,
   "metadata": {},
   "outputs": [],
   "source": [
    "move,_,_ = engine.best_move(board, 100, 0)\n",
    "print(move)\n",
    "board.push(move)"
   ]
  },
  {
   "cell_type": "code",
   "execution_count": null,
   "metadata": {},
   "outputs": [],
   "source": [
    "board = chess.get_initial_state()\n",
    "\n",
    "# results = trainer.play_game(board, 100)\n",
    "results = trainer.generate_games(\"../games_data\", 720, 25)\n",
    "print(results)"
   ]
  },
  {
   "cell_type": "code",
   "execution_count": null,
   "metadata": {},
   "outputs": [],
   "source": [
    "trainer.save_games(results, \"../games_data\")"
   ]
  },
  {
   "cell_type": "code",
   "execution_count": null,
   "metadata": {},
   "outputs": [],
   "source": [
    "results = trainer.load_games(\"../games_data\")"
   ]
  },
  {
   "cell_type": "code",
   "execution_count": null,
   "metadata": {},
   "outputs": [],
   "source": [
    "flat_results = [step for game in results for step in game]\n",
    "\n",
    "model.train(flat_results, None, 1)"
   ]
  }
 ],
 "metadata": {
  "kernelspec": {
   "display_name": "chess2",
   "language": "python",
   "name": "python3"
  },
  "language_info": {
   "codemirror_mode": {
    "name": "ipython",
    "version": 3
   },
   "file_extension": ".py",
   "mimetype": "text/x-python",
   "name": "python",
   "nbconvert_exporter": "python",
   "pygments_lexer": "ipython3",
   "version": "3.10.12"
  }
 },
 "nbformat": 4,
 "nbformat_minor": 2
}
