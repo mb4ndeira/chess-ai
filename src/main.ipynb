{
 "cells": [
  {
   "cell_type": "code",
   "execution_count": 1,
   "metadata": {},
   "outputs": [
    {
     "name": "stdout",
     "output_type": "stream",
     "text": [
      "model path not provided. defaulting to model_path:  gaming_model.keras\n"
     ]
    }
   ],
   "source": [
    "from chess_game import ChessGame\n",
    "from model.gaming_model import GamingRLModel\n",
    "from chess_trainer import ChessTrainer\n",
    "from engine import ChessEngine\n",
    "import chess as python_chess\n",
    "\n",
    "model = GamingRLModel()\n",
    "chess = ChessGame()\n",
    "engine = ChessEngine(model)\n",
    "trainer = ChessTrainer(engine)\n",
    "\n",
    "board = chess.get_initial_state()\n",
    "board.push(python_chess.Move.from_uci(\"e2e4\"))"
   ]
  },
  {
   "cell_type": "code",
   "execution_count": 2,
   "metadata": {},
   "outputs": [
    {
     "ename": "TypeError",
     "evalue": "object of type 'Move' has no len()",
     "output_type": "error",
     "traceback": [
      "\u001b[0;31m---------------------------------------------------------------------------\u001b[0m",
      "\u001b[0;31mTypeError\u001b[0m                                 Traceback (most recent call last)",
      "Cell \u001b[0;32mIn[2], line 1\u001b[0m\n\u001b[0;32m----> 1\u001b[0m move \u001b[38;5;241m=\u001b[39m \u001b[43mengine\u001b[49m\u001b[38;5;241;43m.\u001b[39;49m\u001b[43mbest_move\u001b[49m\u001b[43m(\u001b[49m\u001b[43mboard\u001b[49m\u001b[43m,\u001b[49m\u001b[43m \u001b[49m\u001b[38;5;241;43m800\u001b[39;49m\u001b[43m)\u001b[49m\n\u001b[1;32m      2\u001b[0m \u001b[38;5;28mprint\u001b[39m(move)\n",
      "File \u001b[0;32m~/workspace/chess2/src/engine.py:34\u001b[0m, in \u001b[0;36mChessEngine.best_move\u001b[0;34m(self, board, simulations)\u001b[0m\n\u001b[1;32m     33\u001b[0m \u001b[38;5;28;01mdef\u001b[39;00m\u001b[38;5;250m \u001b[39m\u001b[38;5;21mbest_move\u001b[39m(\u001b[38;5;28mself\u001b[39m, board, simulations\u001b[38;5;241m=\u001b[39m\u001b[38;5;241m100\u001b[39m): \n\u001b[0;32m---> 34\u001b[0m     action_probs \u001b[38;5;241m=\u001b[39m \u001b[43mMCTS\u001b[49m\u001b[43m(\u001b[49m\u001b[38;5;28;43mself\u001b[39;49m\u001b[43m,\u001b[49m\u001b[43m \u001b[49m\u001b[38;5;28;43mself\u001b[39;49m\u001b[38;5;241;43m.\u001b[39;49m\u001b[43m_game\u001b[49m\u001b[43m)\u001b[49m\u001b[38;5;241;43m.\u001b[39;49m\u001b[43msearch\u001b[49m\u001b[43m(\u001b[49m\u001b[43mboard\u001b[49m\u001b[43m,\u001b[49m\u001b[43m \u001b[49m\u001b[43msimulations\u001b[49m\u001b[43m,\u001b[49m\u001b[43m \u001b[49m\u001b[43mC\u001b[49m\u001b[38;5;241;43m=\u001b[39;49m\u001b[38;5;241;43m2\u001b[39;49m\u001b[43m)\u001b[49m\n\u001b[1;32m     36\u001b[0m     best_action \u001b[38;5;241m=\u001b[39m np\u001b[38;5;241m.\u001b[39margmax(action_probs)\n\u001b[1;32m     37\u001b[0m     best_uci \u001b[38;5;241m=\u001b[39m \u001b[38;5;28mself\u001b[39m\u001b[38;5;241m.\u001b[39m_game\u001b[38;5;241m.\u001b[39mindex_to_move(best_action)\u001b[38;5;241m.\u001b[39muci()\n",
      "File \u001b[0;32m~/workspace/chess2/src/mcts.py:101\u001b[0m, in \u001b[0;36mMCTS.search\u001b[0;34m(self, state, simulations, C)\u001b[0m\n\u001b[1;32m     99\u001b[0m \u001b[38;5;28;01mif\u001b[39;00m \u001b[38;5;129;01mnot\u001b[39;00m is_terminal:\n\u001b[1;32m    100\u001b[0m     expand_start \u001b[38;5;241m=\u001b[39m time\u001b[38;5;241m.\u001b[39mtime()\n\u001b[0;32m--> 101\u001b[0m     \u001b[43mnode\u001b[49m\u001b[38;5;241;43m.\u001b[39;49m\u001b[43mexpand\u001b[49m\u001b[43m(\u001b[49m\u001b[43mpolicy\u001b[49m\u001b[43m)\u001b[49m\n\u001b[1;32m    102\u001b[0m     expand_time \u001b[38;5;241m+\u001b[39m\u001b[38;5;241m=\u001b[39m time\u001b[38;5;241m.\u001b[39mtime() \u001b[38;5;241m-\u001b[39m expand_start\n\u001b[1;32m    104\u001b[0m backprop_start \u001b[38;5;241m=\u001b[39m time\u001b[38;5;241m.\u001b[39mtime()\n",
      "File \u001b[0;32m~/workspace/chess2/src/mcts.py:52\u001b[0m, in \u001b[0;36mNode.expand\u001b[0;34m(self, policy)\u001b[0m\n\u001b[1;32m     49\u001b[0m uci \u001b[38;5;241m=\u001b[39m \u001b[38;5;28mself\u001b[39m\u001b[38;5;241m.\u001b[39mgame\u001b[38;5;241m.\u001b[39mindex_to_move(action)\n\u001b[1;32m     50\u001b[0m index_to_move_time \u001b[38;5;241m+\u001b[39m\u001b[38;5;241m=\u001b[39m time\u001b[38;5;241m.\u001b[39mtime() \u001b[38;5;241m-\u001b[39m t0\n\u001b[0;32m---> 52\u001b[0m child_state \u001b[38;5;241m=\u001b[39m \u001b[38;5;28;43mself\u001b[39;49m\u001b[38;5;241;43m.\u001b[39;49m\u001b[43mgame\u001b[49m\u001b[38;5;241;43m.\u001b[39;49m\u001b[43mget_next_state\u001b[49m\u001b[43m(\u001b[49m\u001b[43mchild_state\u001b[49m\u001b[43m,\u001b[49m\u001b[43m \u001b[49m\u001b[43muci\u001b[49m\u001b[43m)\u001b[49m\n\u001b[1;32m     53\u001b[0m next_state_time \u001b[38;5;241m+\u001b[39m\u001b[38;5;241m=\u001b[39m time\u001b[38;5;241m.\u001b[39mtime() \u001b[38;5;241m-\u001b[39m index_to_move_time\n\u001b[1;32m     55\u001b[0m child \u001b[38;5;241m=\u001b[39m Node(\u001b[38;5;28mself\u001b[39m\u001b[38;5;241m.\u001b[39mgame, child_state, \u001b[38;5;28mself\u001b[39m\u001b[38;5;241m.\u001b[39mC, \u001b[38;5;28mself\u001b[39m, action, prob)\n",
      "File \u001b[0;32m~/workspace/chess2/src/chess_game.py:85\u001b[0m, in \u001b[0;36mChessGame.get_next_state\u001b[0;34m(self, state, action_uci)\u001b[0m\n\u001b[1;32m     83\u001b[0m \u001b[38;5;28;01mdef\u001b[39;00m\u001b[38;5;250m \u001b[39m\u001b[38;5;21mget_next_state\u001b[39m(\u001b[38;5;28mself\u001b[39m, state, action_uci):\n\u001b[1;32m     84\u001b[0m     next_state \u001b[38;5;241m=\u001b[39m state\u001b[38;5;241m.\u001b[39mcopy()\n\u001b[0;32m---> 85\u001b[0m     move \u001b[38;5;241m=\u001b[39m \u001b[43mchess\u001b[49m\u001b[38;5;241;43m.\u001b[39;49m\u001b[43mMove\u001b[49m\u001b[38;5;241;43m.\u001b[39;49m\u001b[43mfrom_uci\u001b[49m\u001b[43m(\u001b[49m\u001b[43maction_uci\u001b[49m\u001b[43m)\u001b[49m\n\u001b[1;32m     86\u001b[0m     next_state\u001b[38;5;241m.\u001b[39mpush(move)\n\u001b[1;32m     87\u001b[0m     \u001b[38;5;28;01mreturn\u001b[39;00m next_state\n",
      "File \u001b[0;32m~/.pyenv/versions/3.10.12/envs/chess2/lib/python3.10/site-packages/chess/__init__.py:694\u001b[0m, in \u001b[0;36mMove.from_uci\u001b[0;34m(cls, uci)\u001b[0m\n\u001b[1;32m    692\u001b[0m \u001b[38;5;28;01mif\u001b[39;00m uci \u001b[38;5;241m==\u001b[39m \u001b[38;5;124m\"\u001b[39m\u001b[38;5;124m0000\u001b[39m\u001b[38;5;124m\"\u001b[39m:\n\u001b[1;32m    693\u001b[0m     \u001b[38;5;28;01mreturn\u001b[39;00m \u001b[38;5;28mcls\u001b[39m\u001b[38;5;241m.\u001b[39mnull()\n\u001b[0;32m--> 694\u001b[0m \u001b[38;5;28;01melif\u001b[39;00m \u001b[38;5;28;43mlen\u001b[39;49m\u001b[43m(\u001b[49m\u001b[43muci\u001b[49m\u001b[43m)\u001b[49m \u001b[38;5;241m==\u001b[39m \u001b[38;5;241m4\u001b[39m \u001b[38;5;129;01mand\u001b[39;00m \u001b[38;5;124m\"\u001b[39m\u001b[38;5;124m@\u001b[39m\u001b[38;5;124m\"\u001b[39m \u001b[38;5;241m==\u001b[39m uci[\u001b[38;5;241m1\u001b[39m]:\n\u001b[1;32m    695\u001b[0m     \u001b[38;5;28;01mtry\u001b[39;00m:\n\u001b[1;32m    696\u001b[0m         drop \u001b[38;5;241m=\u001b[39m PIECE_SYMBOLS\u001b[38;5;241m.\u001b[39mindex(uci[\u001b[38;5;241m0\u001b[39m]\u001b[38;5;241m.\u001b[39mlower())\n",
      "\u001b[0;31mTypeError\u001b[0m: object of type 'Move' has no len()"
     ]
    }
   ],
   "source": [
    "move = engine.best_move(board, 800)\n",
    "print(move)"
   ]
  },
  {
   "cell_type": "code",
   "execution_count": null,
   "metadata": {},
   "outputs": [],
   "source": [
    "board = chess.get_initial_state()\n",
    "\n",
    "results = trainer.play_game(board, 100)\n",
    "print(results)"
   ]
  }
 ],
 "metadata": {
  "kernelspec": {
   "display_name": "chess2",
   "language": "python",
   "name": "python3"
  },
  "language_info": {
   "codemirror_mode": {
    "name": "ipython",
    "version": 3
   },
   "file_extension": ".py",
   "mimetype": "text/x-python",
   "name": "python",
   "nbconvert_exporter": "python",
   "pygments_lexer": "ipython3",
   "version": "3.10.12"
  }
 },
 "nbformat": 4,
 "nbformat_minor": 2
}
