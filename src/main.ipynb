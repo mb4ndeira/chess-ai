{
 "cells": [
  {
   "cell_type": "code",
   "execution_count": 2,
   "metadata": {},
   "outputs": [
    {
     "name": "stdout",
     "output_type": "stream",
     "text": [
      "Model loaded from /Users/mbandeira/workspace/chess2/src/../gaming_model.keras\n"
     ]
    },
    {
     "name": "stderr",
     "output_type": "stream",
     "text": [
      "/Users/mbandeira/.pyenv/versions/3.10.12/envs/chess2/lib/python3.10/site-packages/keras/src/saving/saving_lib.py:757: UserWarning: Skipping variable loading for optimizer 'loss_scale_optimizer', because it has 86 variables whereas the saved optimizer has 82 variables. \n",
      "  saveable.load_own_variables(weights_store.get(inner_path))\n",
      "/Users/mbandeira/.pyenv/versions/3.10.12/envs/chess2/lib/python3.10/site-packages/keras/src/saving/saving_lib.py:757: UserWarning: Skipping variable loading for optimizer 'adam', because it has 82 variables whereas the saved optimizer has 0 variables. \n",
      "  saveable.load_own_variables(weights_store.get(inner_path))\n"
     ]
    }
   ],
   "source": [
    "from chess_game import ChessGame\n",
    "from model.gaming_model import GamingRLModel\n",
    "from chess_trainer import ChessTrainer\n",
    "from engine import ChessEngine\n",
    "import chess as python_chess\n",
    "\n",
    "model = GamingRLModel(\"../gaming_model.keras\")\n",
    "chess = ChessGame()\n",
    "engine = ChessEngine(model)\n",
    "trainer = ChessTrainer(engine)\n",
    "\n",
    "board = chess.get_initial_state()\n",
    "board.push(python_chess.Move.from_uci(\"e2e4\"))"
   ]
  },
  {
   "cell_type": "code",
   "execution_count": null,
   "metadata": {},
   "outputs": [],
   "source": [
    "move = engine.best_move(board, 25)\n",
    "print(move)"
   ]
  },
  {
   "cell_type": "code",
   "execution_count": null,
   "metadata": {},
   "outputs": [],
   "source": [
    "board = chess.get_initial_state()\n",
    "\n",
    "# results = trainer.play_game(board, 100)\n",
    "results = trainer.generate_games(\"../games_data\", 720, 25)\n",
    "print(results)"
   ]
  },
  {
   "cell_type": "code",
   "execution_count": null,
   "metadata": {},
   "outputs": [],
   "source": [
    "trainer.save_games(results, \"../games_data\")"
   ]
  },
  {
   "cell_type": "code",
   "execution_count": null,
   "metadata": {},
   "outputs": [],
   "source": [
    "results = trainer.load_games(\"../games_data\")"
   ]
  },
  {
   "cell_type": "code",
   "execution_count": null,
   "metadata": {},
   "outputs": [],
   "source": [
    "import numpy as np\n",
    "\n",
    "flat_results = [step for game in results for step in game]\n",
    "\n",
    "model.train(flat_results)"
   ]
  }
 ],
 "metadata": {
  "kernelspec": {
   "display_name": "chess2",
   "language": "python",
   "name": "python3"
  },
  "language_info": {
   "codemirror_mode": {
    "name": "ipython",
    "version": 3
   },
   "file_extension": ".py",
   "mimetype": "text/x-python",
   "name": "python",
   "nbconvert_exporter": "python",
   "pygments_lexer": "ipython3",
   "version": "3.10.12"
  }
 },
 "nbformat": 4,
 "nbformat_minor": 2
}
